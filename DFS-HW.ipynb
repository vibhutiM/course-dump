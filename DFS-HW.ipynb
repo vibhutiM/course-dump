{
 "cells": [
  {
   "cell_type": "markdown",
   "metadata": {},
   "source": [
    "# Connected Components\n",
    "\n",
    "The purpose of this assignment is to familiarize yourself with the handling of graph data structures. You will implement depth-first search for identifying the connected components of an undirected graph, implementing procedure Search as a subroutine along the way.\n",
    "\n",
    "You will use the [NetworkX](https://networkx.github.io/) Python package to represent and manipulate graphs. You should first familiarize yourself with its functionality by going through the brief [tutorial](http://networkx.github.io/documentation/networkx-1.9.1/tutorial/index.html). For this homework, you may only use the basic undirected graph methods listed [here](http://networkx.github.io/documentation/networkx-1.9.1/reference/classes.graph.html).\n",
    "\n",
    "As a use case, we will work with a dataset recording the interactions between characters in Homer's *Iliad*."
   ]
  },
  {
   "cell_type": "code",
   "execution_count": 148,
   "metadata": {
    "collapsed": true
   },
   "outputs": [],
   "source": [
    "import networkx\n",
    "import urllib2\n",
    "homer = urllib2.urlopen('http://people.sc.fsu.edu/~jburkardt/datasets/sgb/homer.dat')"
   ]
  },
  {
   "cell_type": "markdown",
   "metadata": {},
   "source": [
    "The format of the data is straightforward. After some comment lines (beginning with \\*), the file lists a codename for each character (i.e., node of the graph), followed by a description. The file then lists the groups of characters that interact in each chapter, from which you will form the edges. For instance, the first line has the form:\n",
    "\n",
    "```1:CH,AG,ME,GS;AP,CH;HE,AC;AC,AG,CA;HE,AT;AT,AC;AT,OG;NE,AG,AC;CS,OD```\n",
    "\n",
    "This means that CH,AG,ME,GS interacted, so there are edges for all pairs of these nodes. Groups of characters that interacted are separated by semicolons. The lines start with chapter information of the form `1:` or `&:`, which can be ignored for this problem."
   ]
  },
  {
   "cell_type": "markdown",
   "metadata": {},
   "source": [
    "First implement a function to read in the nodes from the input file. You may implement any auxiliary functions as needed, and are encouraged to use small functions with specific purposes to keep your code readable. Any function you implement should be clearly commented."
   ]
  },
  {
   "cell_type": "code",
   "execution_count": 151,
   "metadata": {
    "collapsed": false
   },
   "outputs": [],
   "source": [
    "def read_nodes(gfile):\n",
    "    \"\"\"flag is a variable which is 0 if we are in first comment section and 1 otherwise\"\"\"\n",
    "    flag=0\n",
    "    \"\"\"Initialising a list for storing the node values\"\"\"\n",
    "    node=[]\n",
    "    for line in gfile:\n",
    "        if line[0]=='\\n': \n",
    "            \"\"\"This condition stops the loop before algorithm can begin reading edges\"\"\"\n",
    "            break\n",
    "        elif line[0]!='*': \n",
    "            \"\"\"This condition allows reading the codename of tree nodes into the list\"\"\"\n",
    "            node.append(line[:2])\n",
    "            flag=1\n",
    "    #print line\n",
    "    return node\n",
    "    \"\"\"Reads in the nodes of the graph from the input file.\n",
    "    \n",
    "    Args:\n",
    "        gfile: A handle for the file containing the graph data, starting at the top.\n",
    "        \n",
    "    Returns:\n",
    "        A generator of the nodes in the graph, yielding a list of the form:\n",
    "            ['CH', 'AG, 'ME', ...]\n",
    "    \"\"\"\n",
    "    # TODO: implement function\n",
    "    pass"
   ]
  },
  {
   "cell_type": "markdown",
   "metadata": {},
   "source": [
    "Next implement a function to read in the edges from the input file."
   ]
  },
  {
   "cell_type": "code",
   "execution_count": 152,
   "metadata": {
    "collapsed": true
   },
   "outputs": [],
   "source": [
    "def read_edges(gfile):\n",
    "    \"\"\"Initialize a list for storing edges\"\"\"\n",
    "    edge_list=[]\n",
    "    for line in gfile:\n",
    "        \"\"\"Since gfile start directly for the edge section, break away only when a comment in encountered\"\"\"\n",
    "        if line[0]=='*':\n",
    "            #print 'correct end'\n",
    "            break\n",
    "        \n",
    "        i=0\n",
    "        m=len(line)\n",
    "        #print 'length=',m\n",
    "\n",
    "        while(line[i]!=':'): \n",
    "            \"\"\"each line has some character before : which should be ignored\"\"\"\n",
    "            i=i+1\n",
    "        #print line[i]\n",
    "\n",
    "        while (i<m) and (line[i] != '\\n'):\n",
    "            i=i+1\n",
    "            temp=[] \n",
    "            \"\"\"Initialising a temporary list that stores the nodes that interact with each other\"\"\"\n",
    "            #print 'started a new set'\n",
    "            while (i<m) and (line[i]!=';' and line[i] != '\\n') :\n",
    "                #print 'started a new node'\n",
    "                #print line[i]\n",
    "                start=i \n",
    "                \"\"\"Index for starting the name of the node\"\"\"\n",
    "                while (i<m) and (line[i] !=',' and line[i]!=';' and line[i] != '\\n'):\n",
    "                    #print line[i]\n",
    "                    i=i+1\n",
    "                end=i \n",
    "                \"\"\"Index for the end of the node\"\"\"\n",
    "                if line[i]==',':\n",
    "                    i=i+1\n",
    "                #print 'ended the node'\n",
    "                temp.append(line[start:end]) \n",
    "                \"\"\"Adding the nodes encountered into the temporary array\"\"\"\n",
    "                #print 'added a node to the list'\n",
    "\n",
    "                #print temp\n",
    "            #print 'ended a set'    \n",
    "            n=len(temp)\n",
    "            #print n\n",
    "            k=0\n",
    "            for l in range(n):\n",
    "                #print 'we are here:1'\n",
    "                for j in range(l+1,n): \n",
    "                    \"\"\"This loop adds all the edges to the edge list\"\"\"\n",
    "                    #print 'we are here :2'\n",
    "                    edge=(temp[l],temp[j])\n",
    "                    edge_list.append(edge)\n",
    "                    #print 'edge list=', edge_list\n",
    "                    k=k+1\n",
    "                    #print k\n",
    "            #print edge_list            \n",
    "    \n",
    "    return edge_list\n",
    "                    \n",
    "\n",
    "\n",
    "        \n",
    "    \"\"\"Reads in the edges of the graph from the input file.\n",
    "    \n",
    "    Args:\n",
    "        gfile: A handle for the file containing the graph data, starting at the top \n",
    "            of the edges section.\n",
    "            \n",
    "    Returns:\n",
    "        A generator of the edges in the graph, yielding a list of pairs of the form:\n",
    "            [('CH', 'AG'), ('AG', 'ME'), ...]\n",
    "    \"\"\"\n",
    "    # TODO: implement function\n",
    "    pass"
   ]
  },
  {
   "cell_type": "markdown",
   "metadata": {},
   "source": [
    "The following code should now correctly create the graph."
   ]
  },
  {
   "cell_type": "code",
   "execution_count": 153,
   "metadata": {
    "collapsed": false
   },
   "outputs": [],
   "source": [
    "import networkx as nx\n",
    "G = nx.Graph()\n",
    "G.add_nodes_from(read_nodes(homer))\n",
    "G.add_edges_from(read_edges(homer))"
   ]
  },
  {
   "cell_type": "markdown",
   "metadata": {},
   "source": [
    "Next implement procedure Search. The function takes in a graph and a root node, and returns a list of the nodes visited during the search. The nodes should appear in the order in which they were *first visited*. The neighbors of a node should be processed in *alphabetical order*, where numbers come before letters. This will ensure that the output of your function is uniquely defined, given any input node."
   ]
  },
  {
   "cell_type": "code",
   "execution_count": 154,
   "metadata": {
    "collapsed": true
   },
   "outputs": [],
   "source": [
    "def Search_subroutine(graph,u,tree): \n",
    "    \"\"\"This subroutine return connected component of the given node\"\"\"\n",
    "    graph.node[u]['explored']=1\n",
    "    for v in sorted(graph.neighbors(u)):\n",
    "        if graph.node[v]['explored']==0:\n",
    "            tree.append(v)\n",
    "            Search_subroutine(graph,v,tree)\n",
    "            \n",
    "def Search(graph, root):\n",
    "\n",
    "\n",
    "    for u in sorted(graph.nodes()):\n",
    "         \n",
    "        graph.node[u]['explored']=0 \n",
    "        \"\"\"An attribute that tell if the node has been visited by dfs or not\"\"\"\n",
    "    tree=[root]       \n",
    "    \"\"\"To Record the nodes of the tree as they appear in dfs\"\"\"\n",
    "    Search_subroutine(graph,root,tree)\n",
    "    return tree\n",
    "    \"\"\"Runs depth-first search through a graph, starting at a given root. Neighboring\n",
    "    nodes are processed in alphabetical order.\n",
    "    \n",
    "    Args:\n",
    "        graph: the given graph, with nodes encoded as strings.\n",
    "        root: the node from which to start the search.\n",
    "        \n",
    "    Returns:\n",
    "        A list of nodes in the order in which they were first visited.\n",
    "    \"\"\"\n",
    "    # TODO: implement function\n",
    "    pass   "
   ]
  },
  {
   "cell_type": "markdown",
   "metadata": {},
   "source": [
    "We will check the correctness of your code by verifying that it correctly computes the DFS tree starting at Ulysses (node `OD`)."
   ]
  },
  {
   "cell_type": "code",
   "execution_count": 155,
   "metadata": {
    "collapsed": false
   },
   "outputs": [],
   "source": [
    "ulysses = Search(G, 'OD')\n"
   ]
  },
  {
   "cell_type": "markdown",
   "metadata": {},
   "source": [
    "Next implement DFS to find the connected components of the character graph. When choosing roots for your components, always pick the *smallest unvisited node* according to alphabetical ordering. Combined with your Search routine, this will ensure that the output is again uniquely defined."
   ]
  },
  {
   "cell_type": "code",
   "execution_count": 156,
   "metadata": {
    "collapsed": true
   },
   "outputs": [],
   "source": [
    "def connected_components(graph):\n",
    "    for u in graph.nodes():\n",
    "        graph.node[u]['explored']=0 \n",
    "        \"\"\"initialising that all nodes are unvisited in the beginning\"\"\"\n",
    "    forest=[] \n",
    "    \"\"\"Initialising a list of all the connected components\"\"\"\n",
    "    for v in sorted(graph.nodes()):\n",
    "        if graph.node[v]['explored']==0: \n",
    "            \"\"\"Running dfs on the smallest unvisited node\"\"\"\n",
    "            tree=[v] \n",
    "            Search_subroutine(graph,v,tree)\n",
    "            forest.append(tree)\n",
    "    return forest\n",
    "    "
   ]
  },
  {
   "cell_type": "markdown",
   "metadata": {},
   "source": [
    "We will check correctness of your code by verifying that your output list is identical to our solution."
   ]
  },
  {
   "cell_type": "code",
   "execution_count": 157,
   "metadata": {
    "collapsed": false
   },
   "outputs": [],
   "source": [
    "character_interactions = connected_components(G)"
   ]
  },
  {
   "cell_type": "markdown",
   "metadata": {},
   "source": [
    "As a preliminary check, you should find that the following statements are all true."
   ]
  },
  {
   "cell_type": "code",
   "execution_count": 158,
   "metadata": {
    "collapsed": false,
    "scrolled": true
   },
   "outputs": [
    {
     "name": "stdout",
     "output_type": "stream",
     "text": [
      "There are 12 connected components in the Iliad: True\n",
      "The giant component has size 542: True\n",
      "There are 5 isolated characters: True\n"
     ]
    }
   ],
   "source": [
    "component_sizes = [len(c) for c in character_interactions]\n",
    "print \"There are 12 connected components in the Iliad:\", len(component_sizes) == 12\n",
    "print \"The giant component has size 542:\", max(component_sizes) == 542\n",
    "print \"There are 5 isolated characters:\", len([c for c in component_sizes if c == 1]) == 5"
   ]
  },
  {
   "cell_type": "code",
   "execution_count": null,
   "metadata": {
    "collapsed": true
   },
   "outputs": [],
   "source": []
  }
 ],
 "metadata": {
  "anaconda-cloud": {},
  "kernelspec": {
   "display_name": "Python [Root]",
   "language": "python",
   "name": "Python [Root]"
  },
  "language_info": {
   "codemirror_mode": {
    "name": "ipython",
    "version": 2
   },
   "file_extension": ".py",
   "mimetype": "text/x-python",
   "name": "python",
   "nbconvert_exporter": "python",
   "pygments_lexer": "ipython2",
   "version": "2.7.12"
  }
 },
 "nbformat": 4,
 "nbformat_minor": 0
}
